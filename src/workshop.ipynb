{
 "cells": [
  {
   "cell_type": "code",
   "execution_count": 3,
   "metadata": {},
   "outputs": [],
   "source": [
    "import subprocess\n",
    "import pexpect, os, sys"
   ]
  },
  {
   "cell_type": "code",
   "execution_count": 27,
   "metadata": {},
   "outputs": [
    {
     "name": "stdout",
     "output_type": "stream",
     "text": [
      "nhap so phan tu: 20\n",
      "phan tu a[0] : 20\n",
      "phan tu a[1] : 20\n",
      "phan tu a[2] : 20\n",
      "phan tu a[3] : 20\n",
      "phan tu a[4] : 20\n",
      "phan tu a[5] : 20\n",
      "phan tu a[6] : 20\n",
      "phan tu a[7] : 20\n",
      "phan tu a[8] : 20\n",
      "phan tu a[9] : 20\n",
      "phan tu a[10] : 20\n",
      "phan tu a[11] : 20\n",
      "phan tu a[12] : 20\n",
      "phan tu a[13] : 20\n",
      "phan tu a[14] : 20\n",
      "phan tu a[15] : 20\n",
      "phan tu a[16] : 20\n",
      "phan tu a[17] : 20\n",
      "phan tu a[18] : 20\n",
      "phan tu a[19] : 20\n",
      "20 20 20 20 20 20 20 20 20 20 20 20 20 20 20 20 20 20 20 20 20\n",
      "\n"
     ]
    }
   ],
   "source": [
    "p = pexpect.spawn('input/131')\n",
    "while True:\n",
    "    p.expect ('.*')\n",
    "    p.sendline('20')\n",
    "    if not p.isalive():\n",
    "        p.expect(pexpect.EOF)\n",
    "        print(p.before.decode('latin-1'))\n",
    "        p.kill(0)\n",
    "        break"
   ]
  },
  {
   "cell_type": "code",
   "execution_count": 14,
   "metadata": {},
   "outputs": [
    {
     "data": {
      "text/plain": [
       "<bound method spawn.eof of <pexpect.pty_spawn.spawn object at 0x7f87f032d490>>"
      ]
     },
     "execution_count": 14,
     "metadata": {},
     "output_type": "execute_result"
    }
   ],
   "source": [
    "from PIL import ImageGrab\n",
    "screenshot = ImageGrab.grab()\n",
    "screenshot.show()  # Show the image using the default image viewer\n",
    "screenshot.save('screenshot.png')  # Save the image to a file\n"
   ]
  },
  {
   "cell_type": "code",
   "execution_count": 3,
   "metadata": {},
   "outputs": [
    {
     "ename": "NameError",
     "evalue": "name 'file_path' is not defined",
     "output_type": "error",
     "traceback": [
      "\u001b[0;31m---------------------------------------------------------------------------\u001b[0m",
      "\u001b[0;31mNameError\u001b[0m                                 Traceback (most recent call last)",
      "Cell \u001b[0;32mIn [3], line 9\u001b[0m\n\u001b[1;32m      6\u001b[0m     \u001b[39mreturn\u001b[39;00m \u001b[39msorted\u001b[39m(sub_folders_n_files)\n\u001b[1;32m      8\u001b[0m \u001b[39m# construct saved file path\u001b[39;00m\n\u001b[0;32m----> 9\u001b[0m _, filename \u001b[39m=\u001b[39m os\u001b[39m.\u001b[39mpath\u001b[39m.\u001b[39msplit(file_path)\n\u001b[1;32m     10\u001b[0m saved_loc \u001b[39m=\u001b[39m os\u001b[39m.\u001b[39mpath\u001b[39m.\u001b[39mnormpath(file_path)\u001b[39m.\u001b[39msplit(os\u001b[39m.\u001b[39msep)[\u001b[39m1\u001b[39m:\u001b[39m-\u001b[39m\u001b[39m1\u001b[39m]\n\u001b[1;32m     11\u001b[0m saved_filename \u001b[39m=\u001b[39m \u001b[39mf\u001b[39m\u001b[39m'''\u001b[39m\u001b[39m{\u001b[39;00mSAVED_LOC\u001b[39m}\u001b[39;00m\u001b[39m/\u001b[39m\u001b[39m{\u001b[39;00mos\u001b[39m.\u001b[39mpath\u001b[39m.\u001b[39mjoin(\u001b[39m*\u001b[39msaved_loc)\u001b[39m}\u001b[39;00m\u001b[39m/\u001b[39m\u001b[39m{\u001b[39;00mfilename\u001b[39m.\u001b[39msplit(\u001b[39m'\u001b[39m\u001b[39m.\u001b[39m\u001b[39m'\u001b[39m)[\u001b[39m0\u001b[39m]\u001b[39m}\u001b[39;00m\u001b[39m'''\u001b[39m\n",
      "\u001b[0;31mNameError\u001b[0m: name 'file_path' is not defined"
     ]
    }
   ],
   "source": [
    "def ls_subfolders(rootdir):\n",
    "    sub_folders_n_files = []\n",
    "    for path, _, files in os.walk(rootdir):\n",
    "        for name in files:\n",
    "            sub_folders_n_files.append(os.path.join(path, name))\n",
    "    return sorted(sub_folders_n_files)\n",
    "\n",
    "# # construct saved file path\n",
    "# _, filename = os.path.split(file_path)\n",
    "# saved_loc = os.path.normpath(file_path).split(os.sep)[1:-1]\n",
    "# saved_filename = f'''{SAVED_LOC}/{os.path.join(*saved_loc)}/{filename.split('.')[0]}'''\n",
    "# # check if folder exists if not create it\n",
    "# if not os.path.exists(os.path.join(SAVED_LOC, *saved_loc)):\n",
    "#     os.makedirs(os.path.join(SAVED_LOC, *saved_loc))\n",
    "#     print(f'''Created folder: {os.path.join(SAVED_LOC, *saved_loc)}''')\n",
    "# # check if file already exists\n",
    "# if os.path.exists(f'{saved_filename}.csv') or os.path.exists(f'{saved_filename}.csv') and OVERIDE is False: continue\n"
   ]
  },
  {
   "cell_type": "code",
   "execution_count": 7,
   "metadata": {},
   "outputs": [],
   "source": [
    "filepath = ls_subfolders('./input/')"
   ]
  },
  {
   "cell_type": "code",
   "execution_count": 27,
   "metadata": {},
   "outputs": [],
   "source": [
    "SAVED_LOC = './output'\n",
    "_, filename = os.path.split(filepath[2])\n",
    "saved_loc = f'{SAVED_LOC}/{filename}'"
   ]
  },
  {
   "cell_type": "code",
   "execution_count": 28,
   "metadata": {},
   "outputs": [
    {
     "name": "stdout",
     "output_type": "stream",
     "text": [
      "Created folder: ./output/143\n"
     ]
    }
   ],
   "source": [
    "try:\n",
    "    if not os.path.exists(saved_loc):\n",
    "        os.makedirs(os.path.join(saved_loc))\n",
    "        print(f'''Created folder: {saved_loc}''')\n",
    "except FileExistsError:\n",
    "    pass"
   ]
  },
  {
   "cell_type": "code",
   "execution_count": 22,
   "metadata": {},
   "outputs": [
    {
     "data": {
      "text/plain": [
       "'./output/131'"
      ]
     },
     "execution_count": 22,
     "metadata": {},
     "output_type": "execute_result"
    }
   ],
   "source": [
    "saved_loc"
   ]
  }
 ],
 "metadata": {
  "kernelspec": {
   "display_name": "Python 3.11.0 ('venv11': venv)",
   "language": "python",
   "name": "python3"
  },
  "language_info": {
   "codemirror_mode": {
    "name": "ipython",
    "version": 3
   },
   "file_extension": ".py",
   "mimetype": "text/x-python",
   "name": "python",
   "nbconvert_exporter": "python",
   "pygments_lexer": "ipython3",
   "version": "3.11.0"
  },
  "orig_nbformat": 4,
  "vscode": {
   "interpreter": {
    "hash": "eef29a6c406808d92ce811d4433cd9aea67b52f14c8d11fcdc7fce7d6b9086ca"
   }
  }
 },
 "nbformat": 4,
 "nbformat_minor": 2
}
